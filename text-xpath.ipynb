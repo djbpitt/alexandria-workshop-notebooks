{
 "cells": [
  {
   "cell_type": "code",
   "execution_count": 1,
   "metadata": {
    "collapsed": false,
    "scrolled": false
   },
   "outputs": [],
   "source": [
    "from alexandria.notebook.alexandria_proxy import AlexandriaProxy\n",
    "\n",
    "alexandria = AlexandriaProxy(\"http://localhost:2015/\",\"admin\")\n",
    "text = alexandria.add_text('data/grotius-3160-v2.xml')"
   ]
  },
  {
   "cell_type": "code",
   "execution_count": 2,
   "metadata": {
    "collapsed": false,
    "scrolled": false
   },
   "outputs": [
    {
     "name": "stdout",
     "output_type": "stream",
     "text": [
      "<text>\n",
      "<div type=\"opener\" resp=\"WR\">\n",
      "<p>Illustrissime Domine legate,</p>\n",
      "</div>\n",
      "<p>Commoratus est mecum aliquo tempore filius vester <persName key=\"groot.cornelius.1613-1661\" resp=\"#ed\">Cornelius</persName> et quantumvis nil mihi magis fuerit semper in votis quam ipsum loco aliquo convenienti accommodandi, tamen variis de causis hoc meum destinatum inpeditum est.</p>\n",
      "<p>Res nostrae per Germaniam non parum immutatae et contractae sunt. Et hic in Suecia nullum licet studiose quaesitum locum, qui huic eius aetati aptus esset, invenire potui.</p>\n",
      "<p>Ut eapropter non improbaverim Illustritatis Vestrae consilium ipsum ad se revocandi, cum et ei illis in partibus uberior se materies offerre possit ingenii juvenilis excolendi et nullibi commodius quam a vobis regi et informari queat.</p>\n",
      "<p>Bona igitur gratia ipsum dimisi, non tamen sine aliquo doloris sensu, quod in praesens et meae voluntati et affectui in Illustritatem Vestram omnesque illi annexos flagrantissimo satisfacere nequiverim; velim sibi persuadeat nil me unquam omissurum, quod facere queat ad honoranda ejusdem merita et domus suae stabilimentum ejusque contestandi animum, quod oportunitas nunc defuerit, distulisse, non omisisse.</p>\n",
      "<p>De caetero optime valeat et me sibi addictissimum putet.</p>\n",
      "<div type=\"closer\" resp=\"WR\">\n",
      "<p>Dabantur <placeName key=\"se:stockholm.swe\" resp=\"auto\">Stocholmiae</placeName>, die III/XIII Julij Anni MDCXXXVII.</p>\n",
      "<p>Illustritatis Vestrae amicissimus\n",
      "<lb/><persName key=\"oxenstierna.axel.1583-1654\" resp=\"auto\">Axelius Oxenstierna</persName> mp.</p>\n",
      "</div>\n",
      "</text>\n"
     ]
    }
   ],
   "source": [
    "print(text.get_xml())"
   ]
  },
  {
   "cell_type": "markdown",
   "metadata": {},
   "source": [
    "**xpath query on the whole text:**"
   ]
  },
  {
   "cell_type": "code",
   "execution_count": 3,
   "metadata": {
    "collapsed": false
   },
   "outputs": [
    {
     "data": {
      "text/plain": [
       "{'result': ['<persName key=\"groot.cornelius.1613-1661\" resp=\"#ed\">Cornelius</persName>',\n",
       "  '<persName key=\"oxenstierna.axel.1583-1654\" resp=\"auto\">Axelius Oxenstierna</persName>'],\n",
       " 'type': 'NODESET'}"
      ]
     },
     "execution_count": 3,
     "metadata": {},
     "output_type": "execute_result"
    }
   ],
   "source": [
    "text.xpath('//persName')"
   ]
  },
  {
   "cell_type": "markdown",
   "metadata": {},
   "source": [
    "**or just the relevant part:**"
   ]
  },
  {
   "cell_type": "code",
   "execution_count": 4,
   "metadata": {
    "collapsed": false
   },
   "outputs": [
    {
     "data": {
      "text/plain": [
       "['<persName key=\"groot.cornelius.1613-1661\" resp=\"#ed\">Cornelius</persName>',\n",
       " '<persName key=\"oxenstierna.axel.1583-1654\" resp=\"auto\">Axelius Oxenstierna</persName>']"
      ]
     },
     "execution_count": 4,
     "metadata": {},
     "output_type": "execute_result"
    }
   ],
   "source": [
    "text.xpath('//persName')['result']"
   ]
  },
  {
   "cell_type": "markdown",
   "metadata": {},
   "source": [
    "**add a view 'no-name-tags' that leaves out persName and placeName tags:**"
   ]
  },
  {
   "cell_type": "code",
   "execution_count": 8,
   "metadata": {
    "collapsed": false
   },
   "outputs": [
    {
     "name": "stdout",
     "output_type": "stream",
     "text": [
      "<text>\n",
      "<div type=\"opener\" resp=\"WR\">\n",
      "<p>Illustrissime Domine legate,</p>\n",
      "</div>\n",
      "<p>Commoratus est mecum aliquo tempore filius vester Cornelius et quantumvis nil mihi magis fuerit semper in votis quam ipsum loco aliquo convenienti accommodandi, tamen variis de causis hoc meum destinatum inpeditum est.</p>\n",
      "<p>Res nostrae per Germaniam non parum immutatae et contractae sunt. Et hic in Suecia nullum licet studiose quaesitum locum, qui huic eius aetati aptus esset, invenire potui.</p>\n",
      "<p>Ut eapropter non improbaverim Illustritatis Vestrae consilium ipsum ad se revocandi, cum et ei illis in partibus uberior se materies offerre possit ingenii juvenilis excolendi et nullibi commodius quam a vobis regi et informari queat.</p>\n",
      "<p>Bona igitur gratia ipsum dimisi, non tamen sine aliquo doloris sensu, quod in praesens et meae voluntati et affectui in Illustritatem Vestram omnesque illi annexos flagrantissimo satisfacere nequiverim; velim sibi persuadeat nil me unquam omissurum, quod facere queat ad honoranda ejusdem merita et domus suae stabilimentum ejusque contestandi animum, quod oportunitas nunc defuerit, distulisse, non omisisse.</p>\n",
      "<p>De caetero optime valeat et me sibi addictissimum putet.</p>\n",
      "<div type=\"closer\" resp=\"WR\">\n",
      "<p>Dabantur Stocholmiae, die III/XIII Julij Anni MDCXXXVII.</p>\n",
      "<p>Illustritatis Vestrae amicissimus\n",
      "<lb/>Axelius Oxenstierna mp.</p>\n",
      "</div>\n",
      "</text>\n"
     ]
    }
   ],
   "source": [
    "from alexandria.client.text_view import TextView\n",
    "from alexandria.client.element import Element\n",
    "\n",
    "view1 = TextView('no-name-tags')\n",
    "view1.description = 'leave out persName, placeName tags'\n",
    "view1.elements.append(Element('persName','hideTag'))\n",
    "view1.elements.append(Element('placeName','hideTag'))\n",
    "text.set_view(view1)\n",
    "filtered = text.get_xml_using_view(view1.name)\n",
    "print(filtered)"
   ]
  },
  {
   "cell_type": "markdown",
   "metadata": {},
   "source": [
    "**xpath query on this view on the text:**"
   ]
  },
  {
   "cell_type": "code",
   "execution_count": 6,
   "metadata": {
    "collapsed": false
   },
   "outputs": [
    {
     "data": {
      "text/plain": [
       "{'result': [], 'type': 'NODESET'}"
      ]
     },
     "execution_count": 6,
     "metadata": {},
     "output_type": "execute_result"
    }
   ],
   "source": [
    "text.xpath('//persName','no-name-tags')"
   ]
  }
 ],
 "metadata": {
  "anaconda-cloud": {},
  "kernelspec": {
   "display_name": "Python [Root]",
   "language": "python",
   "name": "Python [Root]"
  },
  "language_info": {
   "codemirror_mode": {
    "name": "ipython",
    "version": 3
   },
   "file_extension": ".py",
   "mimetype": "text/x-python",
   "name": "python",
   "nbconvert_exporter": "python",
   "pygments_lexer": "ipython3",
   "version": "3.5.2"
  }
 },
 "nbformat": 4,
 "nbformat_minor": 0
}
