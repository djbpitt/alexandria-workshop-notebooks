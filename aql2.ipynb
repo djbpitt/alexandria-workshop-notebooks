{
 "cells": [
  {
   "cell_type": "code",
   "execution_count": 1,
   "metadata": {
    "collapsed": false,
    "scrolled": false
   },
   "outputs": [],
   "source": [
    "from alexandria.notebook.alexandria_proxy import AlexandriaProxy\n",
    "\n",
    "alexandria = AlexandriaProxy(\"http://localhost:2015/\",\"admin\")"
   ]
  },
  {
   "cell_type": "markdown",
   "metadata": {},
   "source": [
    "**AQL2 command 'hello':**"
   ]
  },
  {
   "cell_type": "code",
   "execution_count": 2,
   "metadata": {
    "collapsed": false
   },
   "outputs": [
    {
     "data": {
      "text/plain": [
       "{'done': True,\n",
       " 'expires': '2016-09-20T11:15:42.701Z',\n",
       " 'processingTime': 'PT0S',\n",
       " 'result': 'Hello and welcome, World!\\nHello and welcome, Universe!',\n",
       " 'startTime': '2016-09-20T10:15:42.701Z',\n",
       " 'state': 'done',\n",
       " 'success': True}"
      ]
     },
     "execution_count": 2,
     "metadata": {},
     "output_type": "execute_result"
    }
   ],
   "source": [
    "status = alexandria.aql2('hello(\"World\",\"Universe\")')\n",
    "status"
   ]
  },
  {
   "cell_type": "code",
   "execution_count": 3,
   "metadata": {
    "collapsed": false
   },
   "outputs": [
    {
     "name": "stdout",
     "output_type": "stream",
     "text": [
      "Hello and welcome, World!\n",
      "Hello and welcome, Universe!\n"
     ]
    }
   ],
   "source": [
    "print(status['result'])"
   ]
  },
  {
   "cell_type": "markdown",
   "metadata": {},
   "source": [
    "**AQL2 command 'bye':**"
   ]
  },
  {
   "cell_type": "code",
   "execution_count": 4,
   "metadata": {
    "collapsed": false
   },
   "outputs": [
    {
     "data": {
      "text/plain": [
       "{'done': True,\n",
       " 'expires': '2016-09-20T11:15:43.792Z',\n",
       " 'processingTime': 'PT0S',\n",
       " 'result': 'Goodbye You!',\n",
       " 'startTime': '2016-09-20T10:15:43.792Z',\n",
       " 'state': 'done',\n",
       " 'success': True}"
      ]
     },
     "execution_count": 4,
     "metadata": {},
     "output_type": "execute_result"
    }
   ],
   "source": [
    "status = alexandria.aql2('bye(\"You\")')\n",
    "status"
   ]
  },
  {
   "cell_type": "code",
   "execution_count": 5,
   "metadata": {
    "collapsed": false
   },
   "outputs": [
    {
     "name": "stdout",
     "output_type": "stream",
     "text": [
      "Goodbye You!\n"
     ]
    }
   ],
   "source": [
    "print(status['result'])"
   ]
  },
  {
   "cell_type": "markdown",
   "metadata": {},
   "source": [
    "**sending invalid code will return success = False:**"
   ]
  },
  {
   "cell_type": "code",
   "execution_count": 6,
   "metadata": {
    "collapsed": false
   },
   "outputs": [
    {
     "data": {
      "text/plain": [
       "{'done': True,\n",
       " 'expires': '2016-09-20T11:15:44.860Z',\n",
       " 'processingTime': 'PT0.001S',\n",
       " 'startTime': '2016-09-20T10:15:44.859Z',\n",
       " 'state': 'done',\n",
       " 'success': False}"
      ]
     },
     "execution_count": 6,
     "metadata": {},
     "output_type": "execute_result"
    }
   ],
   "source": [
    "alexandria.aql2('invalid AQL2!')"
   ]
  }
 ],
 "metadata": {
  "anaconda-cloud": {},
  "kernelspec": {
   "display_name": "Python [Root]",
   "language": "python",
   "name": "Python [Root]"
  },
  "language_info": {
   "codemirror_mode": {
    "name": "ipython",
    "version": 3
   },
   "file_extension": ".py",
   "mimetype": "text/x-python",
   "name": "python",
   "nbconvert_exporter": "python",
   "pygments_lexer": "ipython3",
   "version": "3.5.2"
  }
 },
 "nbformat": 4,
 "nbformat_minor": 0
}
